{
 "cells": [
  {
   "cell_type": "code",
   "execution_count": null,
   "id": "e75b93c6-870e-4104-9916-0df69a3df771",
   "metadata": {},
   "outputs": [],
   "source": [
    "# Name: Sujey Rajesh Naik\n",
    "# Reg No: 24-27-27\n",
    "# Course: Data Science Tools & Techniques (AM609)\n",
    "# Programme: MTech Data Science\n",
    "# Assignment Number: 02"
   ]
  },
  {
   "cell_type": "code",
   "execution_count": 3,
   "id": "428bef77-23d1-4227-8706-047d109e162b",
   "metadata": {},
   "outputs": [],
   "source": [
    "import numpy as np"
   ]
  },
  {
   "cell_type": "code",
   "execution_count": 26,
   "id": "09d993d4-8f48-44be-89a4-35d6c2bbacc9",
   "metadata": {},
   "outputs": [
    {
     "name": "stdout",
     "output_type": "stream",
     "text": [
      "[ 0  1  2  3  4  5  6  7  8  9 10 11 12 13 14 15 16 17 18 19 20 21 22 23\n",
      " 24 25 26 27 28 29 30]\n",
      "(31,)\n"
     ]
    }
   ],
   "source": [
    "#Question 1a\n",
    "#Array is created with values 0 to 30 both inclusive\n",
    "var1 = np.arange(0,31)\n",
    "print(var1)\n",
    "print(var1.shape)"
   ]
  },
  {
   "cell_type": "code",
   "execution_count": 28,
   "id": "bcacaba5-2e6b-4f01-a121-83fc5ffe3324",
   "metadata": {},
   "outputs": [
    {
     "name": "stdout",
     "output_type": "stream",
     "text": [
      "[[ 1  2  3  4  5]\n",
      " [ 6  7  8  9 10]\n",
      " [11 12 13 14 15]\n",
      " [16 17 18 19 20]\n",
      " [21 22 23 24 25]\n",
      " [26 27 28 29 30]]\n",
      "(6, 5)\n"
     ]
    }
   ],
   "source": [
    "#Question 1b\n",
    "#As size of var1 is 31, we are skipping element 0 so that we can create 2d matrix\n",
    "var2 = var1[1:].reshape(6,5)\n",
    "print(var2)\n",
    "print(var2.shape)"
   ]
  },
  {
   "cell_type": "code",
   "execution_count": 30,
   "id": "a101c52e-7740-4b06-93ff-df194edd4b3c",
   "metadata": {},
   "outputs": [
    {
     "name": "stdout",
     "output_type": "stream",
     "text": [
      "[[[ 1  2  3]\n",
      "  [ 4  5  6]]\n",
      "\n",
      " [[ 7  8  9]\n",
      "  [10 11 12]]\n",
      "\n",
      " [[13 14 15]\n",
      "  [16 17 18]]\n",
      "\n",
      " [[19 20 21]\n",
      "  [22 23 24]]\n",
      "\n",
      " [[25 26 27]\n",
      "  [28 29 30]]]\n",
      "(5, 2, 3)\n"
     ]
    }
   ],
   "source": [
    "#Question 1c\n",
    "var3 = var2.reshape(5,2,3)\n",
    "print(var3)\n",
    "print(var3.shape)"
   ]
  },
  {
   "cell_type": "code",
   "execution_count": 44,
   "id": "df2021bf-a810-41b5-94f9-b4f728e51af0",
   "metadata": {},
   "outputs": [],
   "source": [
    "#Question 1d\n",
    "var2[1,0] = -1"
   ]
  },
  {
   "cell_type": "code",
   "execution_count": 46,
   "id": "8302142e-9f86-43b3-b015-0bb5b5d88c4f",
   "metadata": {},
   "outputs": [
    {
     "name": "stdout",
     "output_type": "stream",
     "text": [
      "[ 0  1  2  3  4  5 -1  7  8  9 10 11 12 13 14 15 16 17 18 19 20 21 22 23\n",
      " 24 25 26 27 28 29 30]\n",
      "[[ 1  2  3  4  5]\n",
      " [-1  7  8  9 10]\n",
      " [11 12 13 14 15]\n",
      " [16 17 18 19 20]\n",
      " [21 22 23 24 25]\n",
      " [26 27 28 29 30]]\n",
      "[[[ 1  2  3]\n",
      "  [ 4  5 -1]]\n",
      "\n",
      " [[ 7  8  9]\n",
      "  [10 11 12]]\n",
      "\n",
      " [[13 14 15]\n",
      "  [16 17 18]]\n",
      "\n",
      " [[19 20 21]\n",
      "  [22 23 24]]\n",
      "\n",
      " [[25 26 27]\n",
      "  [28 29 30]]]\n"
     ]
    }
   ],
   "source": [
    "print(var1)\n",
    "print(var2)\n",
    "print(var3)"
   ]
  },
  {
   "cell_type": "code",
   "execution_count": 35,
   "id": "7957a3e6-3123-4e8d-9d5a-84e5dde93be6",
   "metadata": {},
   "outputs": [],
   "source": [
    "# when we change a value in var2, the corresponding value in var1 and var3 are also changed. \n",
    "# This is because the reshape() function in NumPy returns a view of the original array whenever possible, which means that no new data is allocated in memory.\n",
    "# Since var2 and var3 are views of the original array var1, they all point to the same data in memory.\n",
    "# Therfore,when we change the value in var2 using array indexing, i.e, setting the first value of the second row to -1, we are modifying the same data that var1 and var3 also reference."
   ]
  },
  {
   "cell_type": "code",
   "execution_count": 48,
   "id": "ec8f827d-e8ae-465b-9cc0-5f846f8dd09d",
   "metadata": {},
   "outputs": [
    {
     "name": "stdout",
     "output_type": "stream",
     "text": [
      "[[ 5  7  2]\n",
      " [17 19 21]\n",
      " [29 31 33]\n",
      " [41 43 45]\n",
      " [53 55 57]]\n"
     ]
    }
   ],
   "source": [
    "#Question 1e\n",
    "#i)\n",
    "result1 = var3.sum(axis=1) #Sum var3 over its second dimension\n",
    "print(result1)"
   ]
  },
  {
   "cell_type": "code",
   "execution_count": 50,
   "id": "14f7bc83-f473-4602-9ba8-ef9d287f4987",
   "metadata": {},
   "outputs": [
    {
     "name": "stdout",
     "output_type": "stream",
     "text": [
      "[[ 6  8]\n",
      " [24 33]\n",
      " [42 51]\n",
      " [60 69]\n",
      " [78 87]]\n"
     ]
    }
   ],
   "source": [
    "#ii)\n",
    "result2 = var3.sum(axis=2) #Sum var3 over its third dimension\n",
    "print(result2)"
   ]
  },
  {
   "cell_type": "code",
   "execution_count": 52,
   "id": "7393e4e5-76f7-4b8d-acec-ea5f53951431",
   "metadata": {},
   "outputs": [
    {
     "name": "stdout",
     "output_type": "stream",
     "text": [
      "[210 248]\n"
     ]
    }
   ],
   "source": [
    "#iii)\n",
    "result3 = var3.sum(axis=(0,2)) #Sum var3 over both its first and third dimensions\n",
    "print(result3)"
   ]
  },
  {
   "cell_type": "code",
   "execution_count": 54,
   "id": "d250acce-2b7b-460b-926b-bc584df4dd6a",
   "metadata": {},
   "outputs": [
    {
     "name": "stdout",
     "output_type": "stream",
     "text": [
      "[-1  7  8  9 10]\n"
     ]
    }
   ],
   "source": [
    "#Question 1f\n",
    "#i)\n",
    "print(var2[1,:]) #Second row of var2 with shape= (6,5)"
   ]
  },
  {
   "cell_type": "code",
   "execution_count": 56,
   "id": "6f464990-8ae0-47ed-a9b1-196c0d83af8d",
   "metadata": {},
   "outputs": [
    {
     "name": "stdout",
     "output_type": "stream",
     "text": [
      "[ 5 10 15 20 25 30]\n"
     ]
    }
   ],
   "source": [
    "#ii)\n",
    "print(var2[:,-1]) #last column of var2"
   ]
  },
  {
   "cell_type": "code",
   "execution_count": 58,
   "id": "e39e7716-b6ee-438a-9f42-3be110fec64f",
   "metadata": {},
   "outputs": [
    {
     "name": "stdout",
     "output_type": "stream",
     "text": [
      "[[ 4  5]\n",
      " [ 9 10]]\n"
     ]
    }
   ],
   "source": [
    "#iii)\n",
    "print(var2[:2,-2:]) #top right 2*2 submatrix of var2"
   ]
  },
  {
   "cell_type": "code",
   "execution_count": 60,
   "id": "f1a34d77-94f7-4d9d-a909-8f78e10450a3",
   "metadata": {},
   "outputs": [
    {
     "name": "stdout",
     "output_type": "stream",
     "text": [
      "[ 1  2  3  4  5  6  7  8  9 10]\n"
     ]
    }
   ],
   "source": [
    "#Question 2a\n",
    "array1 = np.arange(10)+1\n",
    "print(array1)"
   ]
  },
  {
   "cell_type": "code",
   "execution_count": 62,
   "id": "0f6c8011-86a7-4c73-9433-748f80f045fc",
   "metadata": {},
   "outputs": [
    {
     "name": "stdout",
     "output_type": "stream",
     "text": [
      "[[ 0  1  2  3  4  5  6  7  8  9]\n",
      " [ 1  2  3  4  5  6  7  8  9 10]\n",
      " [ 2  3  4  5  6  7  8  9 10 11]\n",
      " [ 3  4  5  6  7  8  9 10 11 12]\n",
      " [ 4  5  6  7  8  9 10 11 12 13]\n",
      " [ 5  6  7  8  9 10 11 12 13 14]\n",
      " [ 6  7  8  9 10 11 12 13 14 15]\n",
      " [ 7  8  9 10 11 12 13 14 15 16]\n",
      " [ 8  9 10 11 12 13 14 15 16 17]\n",
      " [ 9 10 11 12 13 14 15 16 17 18]]\n"
     ]
    }
   ],
   "source": [
    "#Question 2b\n",
    "array2 = np.arange(10)\n",
    "A = array2.reshape(10,1) + array2\n",
    "print(A)"
   ]
  },
  {
   "cell_type": "code",
   "execution_count": 64,
   "id": "8828ee18-926a-4d03-8aac-1d7572da3b78",
   "metadata": {},
   "outputs": [],
   "source": [
    "#Question 2c\n",
    "import numpy.random as npr\n",
    "data = np.exp(npr.randn ( 50 , 5 ) )"
   ]
  },
  {
   "cell_type": "code",
   "execution_count": 66,
   "id": "3d8ddaff-d560-47f8-ad02-d0ea47cecb7c",
   "metadata": {},
   "outputs": [
    {
     "name": "stdout",
     "output_type": "stream",
     "text": [
      "Mean: [1.99487516 1.60206809 1.6673333  1.67504494 1.47492236]\n"
     ]
    }
   ],
   "source": [
    "#Question 2d & 2e\n",
    "mean = data.mean(axis=0)\n",
    "print(\"Mean:\",mean)"
   ]
  },
  {
   "cell_type": "code",
   "execution_count": 68,
   "id": "b210c90a-3181-4def-8a52-d63190c2bfd2",
   "metadata": {},
   "outputs": [
    {
     "name": "stdout",
     "output_type": "stream",
     "text": [
      "std: [2.55556899 1.68299729 1.71657705 2.46181126 1.37037642]\n"
     ]
    }
   ],
   "source": [
    "std = data.std(axis=0)\n",
    "print(\"std:\",std)"
   ]
  },
  {
   "cell_type": "code",
   "execution_count": 70,
   "id": "d6e965c8-4dd6-4428-be5b-c8f848f79ff2",
   "metadata": {},
   "outputs": [],
   "source": [
    "#Question 2f\n",
    "normalized = data - mean\n",
    "normalized = normalized / std"
   ]
  },
  {
   "cell_type": "code",
   "execution_count": 72,
   "id": "01e718dd-ecff-4ded-98a6-f34420e4977e",
   "metadata": {},
   "outputs": [
    {
     "data": {
      "text/plain": [
       "array([ 0., -0.,  0.,  0.,  0.])"
      ]
     },
     "execution_count": 72,
     "metadata": {},
     "output_type": "execute_result"
    }
   ],
   "source": [
    "normalized.mean(axis=0).round()"
   ]
  },
  {
   "cell_type": "code",
   "execution_count": 74,
   "id": "27db2879-bc2b-4359-b29c-71e0256a6b4b",
   "metadata": {},
   "outputs": [
    {
     "data": {
      "text/plain": [
       "array([1., 1., 1., 1., 1.])"
      ]
     },
     "execution_count": 74,
     "metadata": {},
     "output_type": "execute_result"
    }
   ],
   "source": [
    "normalized.std(axis=0).round()"
   ]
  },
  {
   "cell_type": "code",
   "execution_count": 76,
   "id": "c050d65a-63c6-44c9-9a7f-1af7469d417d",
   "metadata": {},
   "outputs": [],
   "source": [
    "#From the above results, we can tell that we have standardized the data as mean is equal to zero\n",
    "#And standard deviation is equal to 1"
   ]
  },
  {
   "cell_type": "code",
   "execution_count": 78,
   "id": "daeac6c3-3dfe-4e3c-8c2f-ced09cdb266e",
   "metadata": {},
   "outputs": [],
   "source": [
    "#Question 3a\n",
    "#Function for creating vandermonde matrix\n",
    "def vandermonde (N):\n",
    "    vec = np.arange (N) +1\n",
    "    vander = vec.reshape(N,1) ** (vec-1)\n",
    "    return vander"
   ]
  },
  {
   "cell_type": "code",
   "execution_count": 80,
   "id": "82f1234a-f716-43de-9fe5-e2444e59be7c",
   "metadata": {},
   "outputs": [
    {
     "name": "stdout",
     "output_type": "stream",
     "text": [
      "[[          1           1           1           1           1           1\n",
      "            1           1           1           1           1           1]\n",
      " [          1           2           4           8          16          32\n",
      "           64         128         256         512        1024        2048]\n",
      " [          1           3           9          27          81         243\n",
      "          729        2187        6561       19683       59049      177147]\n",
      " [          1           4          16          64         256        1024\n",
      "         4096       16384       65536      262144     1048576     4194304]\n",
      " [          1           5          25         125         625        3125\n",
      "        15625       78125      390625     1953125     9765625    48828125]\n",
      " [          1           6          36         216        1296        7776\n",
      "        46656      279936     1679616    10077696    60466176   362797056]\n",
      " [          1           7          49         343        2401       16807\n",
      "       117649      823543     5764801    40353607   282475249  1977326743]\n",
      " [          1           8          64         512        4096       32768\n",
      "       262144     2097152    16777216   134217728  1073741824           0]\n",
      " [          1           9          81         729        6561       59049\n",
      "       531441     4782969    43046721   387420489  -808182895  1316288537]\n",
      " [          1          10         100        1000       10000      100000\n",
      "      1000000    10000000   100000000  1000000000  1410065408  1215752192]\n",
      " [          1          11         121        1331       14641      161051\n",
      "      1771561    19487171   214358881 -1937019605   167620825  1843829075]\n",
      " [          1          12         144        1728       20736      248832\n",
      "      2985984    35831808   429981696   864813056  1787822080   -20971520]]\n"
     ]
    }
   ],
   "source": [
    "vander = vandermonde(12)\n",
    "print(vander)"
   ]
  },
  {
   "cell_type": "code",
   "execution_count": 82,
   "id": "5cf344bd-f48a-4431-a7a4-7ada1196cfda",
   "metadata": {},
   "outputs": [
    {
     "name": "stdout",
     "output_type": "stream",
     "text": [
      "[1. 1. 1. 1. 1. 1. 1. 1. 1. 1. 1. 1.]\n"
     ]
    }
   ],
   "source": [
    "#Question 3b\n",
    "x = np.ones(12)\n",
    "print(x)"
   ]
  },
  {
   "cell_type": "code",
   "execution_count": 84,
   "id": "2fa195a4-5502-417a-8478-fa32c75e0d02",
   "metadata": {},
   "outputs": [
    {
     "name": "stdout",
     "output_type": "stream",
     "text": [
      "[1.20000000e+01 4.09500000e+03 2.65720000e+05 5.59240500e+06\n",
      " 6.10351560e+07 4.35356467e+08 2.30688120e+09 1.22713351e+09\n",
      " 9.43953692e+08 3.73692871e+09 3.10225064e+08 3.10073456e+09]\n"
     ]
    }
   ],
   "source": [
    "b = np.dot(vander,x)\n",
    "print(b)"
   ]
  },
  {
   "cell_type": "code",
   "execution_count": 92,
   "id": "0c7a3bc6-e0c1-48d7-9869-1a2bf65b18bf",
   "metadata": {},
   "outputs": [
    {
     "name": "stdout",
     "output_type": "stream",
     "text": [
      "[1.00000572 0.99735641 1.00311279 0.999506   1.00002861 0.99999857\n",
      " 1.0000001  1.         1.         1.         1.         1.        ]\n"
     ]
    }
   ],
   "source": [
    "#Question 3c\n",
    "import numpy.linalg as nplg\n",
    "inverted_vander = nplg.inv(vander)\n",
    "result = np.dot(inverted_vander,b)\n",
    "print(result)"
   ]
  },
  {
   "cell_type": "code",
   "execution_count": 100,
   "id": "0eb39bf8-5bd4-4869-8c63-89bc15adb908",
   "metadata": {},
   "outputs": [],
   "source": [
    "#In the above result, we are solving linear equation as we are solving Ax=B. So if we do inverse(A)*B we should get x which is nothing but vector of ones.\n",
    "#Even though the above result is approximately equal to 1, there is slight difference only because of floating point precision error in python."
   ]
  },
  {
   "cell_type": "code",
   "execution_count": 94,
   "id": "0361eaa0-92d3-4a74-8d99-4aaab40a74a0",
   "metadata": {},
   "outputs": [],
   "source": [
    "#Question 3d\n",
    "result_solved = nplg.solve(vander,b)"
   ]
  },
  {
   "cell_type": "code",
   "execution_count": 96,
   "id": "49b2f8c7-1bc9-4751-8d76-e9b0ef82e4c7",
   "metadata": {},
   "outputs": [
    {
     "name": "stdout",
     "output_type": "stream",
     "text": [
      "[1.00000067 0.99999715 1.00000411 0.99999733 1.00000089 0.99999984\n",
      " 1.00000002 1.         1.         1.         1.         1.        ]\n"
     ]
    }
   ],
   "source": [
    "print(result_solved)"
   ]
  },
  {
   "cell_type": "code",
   "execution_count": 102,
   "id": "82b08d26-00b1-4db5-bab5-e693a8083e16",
   "metadata": {},
   "outputs": [],
   "source": [
    "#Here we are doing the same thing as above and the result in 3c and 3d should match as we solving for x with same A,B.\n",
    "#We can see in the above result the values are approximately equal to 1. There is slight difference only because of floating point precision error in python."
   ]
  },
  {
   "cell_type": "code",
   "execution_count": 104,
   "id": "41451489-f45c-499a-b085-5010a50afc69",
   "metadata": {},
   "outputs": [],
   "source": [
    "#https://github.com/Sujey-Nk/Sujey_Rajesh_Naik_24-27-27"
   ]
  }
 ],
 "metadata": {
  "kernelspec": {
   "display_name": "Python 3 (ipykernel)",
   "language": "python",
   "name": "python3"
  },
  "language_info": {
   "codemirror_mode": {
    "name": "ipython",
    "version": 3
   },
   "file_extension": ".py",
   "mimetype": "text/x-python",
   "name": "python",
   "nbconvert_exporter": "python",
   "pygments_lexer": "ipython3",
   "version": "3.12.4"
  }
 },
 "nbformat": 4,
 "nbformat_minor": 5
}
